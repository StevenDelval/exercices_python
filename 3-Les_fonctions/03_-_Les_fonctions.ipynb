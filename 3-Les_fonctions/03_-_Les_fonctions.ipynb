{
 "cells": [
  {
   "cell_type": "markdown",
   "metadata": {},
   "source": [
    "# 03 - Les fonctions.\n",
    "\n",
    "## Exercices :\n",
    "\n",
    "**Pour tous ces exercices, il vous sera demandé d'écrire la docstring pour vos fonctions. De plus, les noms des fonctions et des arguments et variables doivent avoir un sens**\n",
    "\n",
    "### Exercice 1 : \n",
    "Transformez en fonction le code suivant :\n"
   ]
  },
  {
   "cell_type": "code",
   "execution_count": 4,
   "metadata": {},
   "outputs": [
    {
     "name": "stdout",
     "output_type": "stream",
     "text": [
      "Entrez un nombre entier : 7\n",
      "Le nombre est impair\n"
     ]
    }
   ],
   "source": [
    "nb_utilisateur = int(input(\"Entrez un nombre entier : \"))\n",
    "\n",
    "if nb_utilisateur % 2 == 0:\n",
    "    print(\"le nombre est pair\")\n",
    "else:\n",
    "    print(\"Le nombre est impair\")"
   ]
  },
  {
   "cell_type": "markdown",
   "metadata": {},
   "source": [
    "### Exercice 2 :\n",
    "\n",
    "Écrire une fonction est_pair(). \n",
    "Cette fonction prend en argument un nombre nb, et renvoie True si nb est pair, False sinon."
   ]
  },
  {
   "cell_type": "markdown",
   "metadata": {},
   "source": [
    "### Exercice 3 :\n",
    "\n",
    "Écrire une fonction qui prend pour argument 3 nombres, et renvoie le plus petit des trois"
   ]
  },
  {
   "cell_type": "markdown",
   "metadata": {},
   "source": [
    "# Exercice 4 :\n",
    "\n",
    "Écrire la docstring de la fonction suivante, et améliorer la qualité du code :"
   ]
  },
  {
   "cell_type": "code",
   "execution_count": 3,
   "metadata": {},
   "outputs": [],
   "source": [
    "def x(a, b):\n",
    "    if a < 0:\n",
    "        a = -a\n",
    "    if b < 0:\n",
    "        b = -b\n",
    "    return a*b"
   ]
  },
  {
   "cell_type": "markdown",
   "metadata": {},
   "source": [
    "### Exercice 5 : \n",
    "\n",
    "Écrire une fonction qui prend en paramètres 3 nombres, et renvoie la moyenne des trois."
   ]
  }
 ],
 "metadata": {
  "kernelspec": {
   "display_name": "Python 3 (ipykernel)",
   "language": "python",
   "name": "python3"
  },
  "language_info": {
   "codemirror_mode": {
    "name": "ipython",
    "version": 3
   },
   "file_extension": ".py",
   "mimetype": "text/x-python",
   "name": "python",
   "nbconvert_exporter": "python",
   "pygments_lexer": "ipython3",
   "version": "3.7.0"
  }
 },
 "nbformat": 4,
 "nbformat_minor": 5
}
